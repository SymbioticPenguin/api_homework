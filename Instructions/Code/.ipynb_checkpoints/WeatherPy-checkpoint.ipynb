{
 "cells": [
  {
   "cell_type": "markdown",
   "metadata": {},
   "source": [
    "# WeatherPy\n",
    "----\n",
    "\n",
    "#### Note\n",
    "* Instructions have been included for each segment. You do not have to follow them exactly, but they are included to help you think through the steps."
   ]
  },
  {
   "cell_type": "code",
   "execution_count": 2,
   "metadata": {
    "scrolled": true
   },
   "outputs": [],
   "source": [
    "# Dependencies and Setup\n",
    "\n",
    "\n",
    "import matplotlib.pyplot as plt\n",
    "import pandas as pd\n",
    "import numpy as np\n",
    "import requests\n",
    "import time\n",
    "from scipy.stats import linregress\n",
    "\n",
    "# Import API key\n",
    "\n",
    "import sys\n",
    "\n",
    "# This is a file path unique to my laptop to get to the API key. I did not save the API key in the repo \n",
    "# for security reasons.\n",
    "\n",
    "sys.path.insert(1, '/Users/symbioticpenguin/Documents')\n",
    "\n",
    "from api_keys import weather_api_key\n",
    "\n",
    "\n",
    "\n",
    "# Incorporated citipy to determine city based on latitude and longitude\n",
    "from citipy import citipy\n",
    "\n",
    "# Output File (CSV)\n",
    "output_data_file = \"output_data/cities.csv\"\n",
    "\n",
    "# Range of latitudes and longitudes\n",
    "lat_range = (-90, 90)\n",
    "lng_range = (-180, 180)\n"
   ]
  },
  {
   "cell_type": "markdown",
   "metadata": {},
   "source": [
    "## Generate Cities List"
   ]
  },
  {
   "cell_type": "code",
   "execution_count": 3,
   "metadata": {},
   "outputs": [
    {
     "data": {
      "text/plain": [
       "601"
      ]
     },
     "execution_count": 3,
     "metadata": {},
     "output_type": "execute_result"
    }
   ],
   "source": [
    "# List for holding lat_lngs and cities\n",
    "lat_lngs = []\n",
    "cities = []\n",
    "\n",
    "# Create a set of random lat and lng combinations\n",
    "lats = np.random.uniform(low=-90.000, high=90.000, size=1500)\n",
    "lngs = np.random.uniform(low=-180.000, high=180.000, size=1500)\n",
    "lat_lngs = zip(lats, lngs)\n",
    "\n",
    "# Identify nearest city for each lat, lng combination\n",
    "for lat_lng in lat_lngs:\n",
    "    city = citipy.nearest_city(lat_lng[0], lat_lng[1]).city_name\n",
    "    \n",
    "    # If the city is unique, then add it to a our cities list\n",
    "    if city not in cities:\n",
    "        cities.append(city)\n",
    "\n",
    "# Print the city count to confirm sufficient count\n",
    "len(cities)"
   ]
  },
  {
   "cell_type": "markdown",
   "metadata": {},
   "source": [
    "### Perform API Calls\n",
    "* Perform a weather check on each city using a series of successive API calls.\n",
    "* Include a print log of each city as it's being processed (with the city number and city name).\n"
   ]
  },
  {
   "cell_type": "code",
   "execution_count": 10,
   "metadata": {},
   "outputs": [],
   "source": [
    "### Please note that this cell took me a couple tries to run. There was an error saying something got disconnected\n",
    "### because it timed out or something. I read online that it was because I'm on a Macbook. Yay Apple.\n",
    "### This is the error code: ('Connection aborted.', ConnectionResetError(54, 'Connection reset by peer'))\n",
    "\n",
    "latitude = []\n",
    "longitude = []\n",
    "temp = []\n",
    "cloudiness = []\n",
    "wind = []\n",
    "humidity = []\n",
    "\n",
    "url = 'http://api.openweathermap.org/data/2.5/weather?'\n",
    "\n",
    "for item in cities:\n",
    "    full_url = url + \"appid=\" + weather_api_key + \"&q=\" + item\n",
    "    weather_response = requests.get(full_url).json()\n",
    "    try:\n",
    "        latitude.append(weather_response['coord']['lat'])\n",
    "        longitude.append(weather_response['coord']['lon'])\n",
    "        temp.append(weather_response['main']['temp'])\n",
    "        cloudiness.append(weather_response['clouds']['all'])\n",
    "        wind.append(weather_response['wind']['speed'])\n",
    "        humidity.append(weather_response['main']['humidity'])\n",
    "    except:\n",
    "        latitude.append(\"N/A\")\n",
    "        longitude.append(\"N/A\")\n",
    "        temp.append(\"N/A\")\n",
    "        cloudiness.append(\"N/A\")\n",
    "        wind.append(\"N/A\")\n",
    "        humidity.append(\"N/A\")\n"
   ]
  },
  {
   "cell_type": "code",
   "execution_count": 11,
   "metadata": {},
   "outputs": [
    {
     "data": {
      "text/html": [
       "<div>\n",
       "<style scoped>\n",
       "    .dataframe tbody tr th:only-of-type {\n",
       "        vertical-align: middle;\n",
       "    }\n",
       "\n",
       "    .dataframe tbody tr th {\n",
       "        vertical-align: top;\n",
       "    }\n",
       "\n",
       "    .dataframe thead th {\n",
       "        text-align: right;\n",
       "    }\n",
       "</style>\n",
       "<table border=\"1\" class=\"dataframe\">\n",
       "  <thead>\n",
       "    <tr style=\"text-align: right;\">\n",
       "      <th></th>\n",
       "      <th>City</th>\n",
       "      <th>Latitude</th>\n",
       "      <th>Longitude</th>\n",
       "      <th>Temperature (F)</th>\n",
       "      <th>Humidity (%)</th>\n",
       "      <th>Cloudiness (%)</th>\n",
       "      <th>Wind (mph)</th>\n",
       "    </tr>\n",
       "  </thead>\n",
       "  <tbody>\n",
       "    <tr>\n",
       "      <td>0</td>\n",
       "      <td>caravelas</td>\n",
       "      <td>-17.71</td>\n",
       "      <td>-39.25</td>\n",
       "      <td>79.79</td>\n",
       "      <td>84</td>\n",
       "      <td>0</td>\n",
       "      <td>11.6545</td>\n",
       "    </tr>\n",
       "    <tr>\n",
       "      <td>1</td>\n",
       "      <td>sorland</td>\n",
       "      <td>67.67</td>\n",
       "      <td>12.69</td>\n",
       "      <td>30.47</td>\n",
       "      <td>68</td>\n",
       "      <td>75</td>\n",
       "      <td>16.106</td>\n",
       "    </tr>\n",
       "    <tr>\n",
       "      <td>2</td>\n",
       "      <td>hobart</td>\n",
       "      <td>-42.88</td>\n",
       "      <td>147.33</td>\n",
       "      <td>53.744</td>\n",
       "      <td>54</td>\n",
       "      <td>40</td>\n",
       "      <td>17.2244</td>\n",
       "    </tr>\n",
       "    <tr>\n",
       "      <td>3</td>\n",
       "      <td>vaini</td>\n",
       "      <td>-21.2</td>\n",
       "      <td>-175.2</td>\n",
       "      <td>82.67</td>\n",
       "      <td>74</td>\n",
       "      <td>40</td>\n",
       "      <td>9.17145</td>\n",
       "    </tr>\n",
       "    <tr>\n",
       "      <td>4</td>\n",
       "      <td>karratha</td>\n",
       "      <td>-20.74</td>\n",
       "      <td>116.85</td>\n",
       "      <td>83.228</td>\n",
       "      <td>78</td>\n",
       "      <td>78</td>\n",
       "      <td>14.8309</td>\n",
       "    </tr>\n",
       "    <tr>\n",
       "      <td>...</td>\n",
       "      <td>...</td>\n",
       "      <td>...</td>\n",
       "      <td>...</td>\n",
       "      <td>...</td>\n",
       "      <td>...</td>\n",
       "      <td>...</td>\n",
       "      <td>...</td>\n",
       "    </tr>\n",
       "    <tr>\n",
       "      <td>547</td>\n",
       "      <td>nantucket</td>\n",
       "      <td>41.28</td>\n",
       "      <td>-70.1</td>\n",
       "      <td>32</td>\n",
       "      <td>86</td>\n",
       "      <td>1</td>\n",
       "      <td>11.9229</td>\n",
       "    </tr>\n",
       "    <tr>\n",
       "      <td>548</td>\n",
       "      <td>carlos antonio lopez</td>\n",
       "      <td>-26.4</td>\n",
       "      <td>-54.77</td>\n",
       "      <td>70.124</td>\n",
       "      <td>95</td>\n",
       "      <td>19</td>\n",
       "      <td>2.28168</td>\n",
       "    </tr>\n",
       "    <tr>\n",
       "      <td>549</td>\n",
       "      <td>el mante</td>\n",
       "      <td>22.73</td>\n",
       "      <td>-98.97</td>\n",
       "      <td>61.7</td>\n",
       "      <td>61</td>\n",
       "      <td>100</td>\n",
       "      <td>3.55673</td>\n",
       "    </tr>\n",
       "    <tr>\n",
       "      <td>550</td>\n",
       "      <td>luocheng</td>\n",
       "      <td>29.38</td>\n",
       "      <td>104.03</td>\n",
       "      <td>61.97</td>\n",
       "      <td>39</td>\n",
       "      <td>2</td>\n",
       "      <td>0.38028</td>\n",
       "    </tr>\n",
       "    <tr>\n",
       "      <td>551</td>\n",
       "      <td>san jose</td>\n",
       "      <td>37.34</td>\n",
       "      <td>-121.89</td>\n",
       "      <td>44.888</td>\n",
       "      <td>65</td>\n",
       "      <td>1</td>\n",
       "      <td>19.4614</td>\n",
       "    </tr>\n",
       "  </tbody>\n",
       "</table>\n",
       "<p>552 rows × 7 columns</p>\n",
       "</div>"
      ],
      "text/plain": [
       "                     City Latitude Longitude Temperature (F) Humidity (%)  \\\n",
       "0               caravelas   -17.71    -39.25           79.79           84   \n",
       "1                 sorland    67.67     12.69           30.47           68   \n",
       "2                  hobart   -42.88    147.33          53.744           54   \n",
       "3                   vaini    -21.2    -175.2           82.67           74   \n",
       "4                karratha   -20.74    116.85          83.228           78   \n",
       "..                    ...      ...       ...             ...          ...   \n",
       "547             nantucket    41.28     -70.1              32           86   \n",
       "548  carlos antonio lopez    -26.4    -54.77          70.124           95   \n",
       "549              el mante    22.73    -98.97            61.7           61   \n",
       "550              luocheng    29.38    104.03           61.97           39   \n",
       "551              san jose    37.34   -121.89          44.888           65   \n",
       "\n",
       "    Cloudiness (%) Wind (mph)  \n",
       "0                0    11.6545  \n",
       "1               75     16.106  \n",
       "2               40    17.2244  \n",
       "3               40    9.17145  \n",
       "4               78    14.8309  \n",
       "..             ...        ...  \n",
       "547              1    11.9229  \n",
       "548             19    2.28168  \n",
       "549            100    3.55673  \n",
       "550              2    0.38028  \n",
       "551              1    19.4614  \n",
       "\n",
       "[552 rows x 7 columns]"
      ]
     },
     "execution_count": 11,
     "metadata": {},
     "output_type": "execute_result"
    }
   ],
   "source": [
    "weather_data = pd.DataFrame({\"City\":cities,\n",
    "                             \"Latitude\":latitude,\n",
    "                             \"Longitude\":longitude,\n",
    "                             \"Temperature (F)\":temp,\n",
    "                             \"Humidity (%)\":humidity,\n",
    "                             \"Cloudiness (%)\":cloudiness,\n",
    "                             \"Wind (mph)\":wind})\n",
    "\n",
    "# weather_data.loc[weather_data[\"Latitude\"]==\"N/A\"]\n",
    "\n",
    "filtered_data = weather_data.loc[weather_data.Latitude != \"N/A\"]\n",
    "filtered_data = filtered_data.reset_index(drop = True)\n",
    "\n",
    "\n",
    "# Kelvin to Farenheit is ((K - 273)*1.8) + 32\n",
    "\n",
    "filtered_data[\"Temperature (F)\"] = (filtered_data[\"Temperature (F)\"] - 273)*9/5 + 32\n",
    "\n",
    "# 2.23694 is a conversion rate I found on Google for m/s to mph\n",
    "\n",
    "filtered_data['Wind (mph)'] = filtered_data['Wind (mph)']*2.23694\n",
    "\n",
    "filtered_data"
   ]
  },
  {
   "cell_type": "markdown",
   "metadata": {},
   "source": [
    "### Convert Raw Data to DataFrame\n",
    "* Export the city data into a .csv.\n",
    "* Display the DataFrame"
   ]
  },
  {
   "cell_type": "code",
   "execution_count": 12,
   "metadata": {},
   "outputs": [],
   "source": [
    "filtered_data.to_csv(\"../output_data/city_data.csv\",index = False)"
   ]
  },
  {
   "cell_type": "code",
   "execution_count": null,
   "metadata": {},
   "outputs": [],
   "source": []
  },
  {
   "cell_type": "markdown",
   "metadata": {},
   "source": [
    "### Plotting the Data\n",
    "* Use proper labeling of the plots using plot titles (including date of analysis) and axes labels.\n",
    "* Save the plotted figures as .pngs."
   ]
  },
  {
   "cell_type": "markdown",
   "metadata": {},
   "source": [
    "#### Latitude vs. Temperature Plot"
   ]
  },
  {
   "cell_type": "code",
   "execution_count": 13,
   "metadata": {
    "scrolled": true
   },
   "outputs": [
    {
     "data": {
      "image/png": "[encoded data removed]",
      "text/plain": [
       "<Figure size 432x288 with 1 Axes>"
      ]
     },
     "metadata": {
      "needs_background": "light"
     },
     "output_type": "display_data"
    }
   ],
   "source": [
    "plt.scatter(filtered_data['Temperature (F)'],filtered_data['Latitude'])\n",
    "plt.xlabel(\"Temperature (F)\")\n",
    "plt.ylabel(\"Latitude\")\n",
    "plt.title(\"Latitude vs Temperature (F) as of 2/2/2020\")\n",
    "\n",
    "plt.savefig(\"../Images/Lat_vs_Temp.png\")"
   ]
  },
  {
   "cell_type": "markdown",
   "metadata": {},
   "source": [
    "#### Latitude vs. Humidity Plot"
   ]
  },
  {
   "cell_type": "code",
   "execution_count": 14,
   "metadata": {},
   "outputs": [
    {
     "data": {
      "image/png": "[encoded data removed]",
      "text/plain": [
       "<Figure size 432x288 with 1 Axes>"
      ]
     },
     "metadata": {
      "needs_background": "light"
     },
     "output_type": "display_data"
    }
   ],
   "source": [
    "plt.scatter(filtered_data['Humidity (%)'],filtered_data['Latitude'])\n",
    "plt.xlabel(\"Humidity (%)\")\n",
    "plt.ylabel(\"Latitude\")\n",
    "plt.title(\"Latitude vs Humidity (%) as of 2/2/2020\")\n",
    "\n",
    "plt.savefig(\"../Images/Lat_vs_Humid.png\")"
   ]
  },
  {
   "cell_type": "markdown",
   "metadata": {},
   "source": [
    "#### Latitude vs. Cloudiness Plot"
   ]
  },
  {
   "cell_type": "code",
   "execution_count": 15,
   "metadata": {},
   "outputs": [
    {
     "data": {
      "image/png": "[encoded data removed]",
      "text/plain": [
       "<Figure size 432x288 with 1 Axes>"
      ]
     },
     "metadata": {
      "needs_background": "light"
     },
     "output_type": "display_data"
    }
   ],
   "source": [
    "plt.scatter(filtered_data['Cloudiness (%)'],filtered_data['Latitude'])\n",
    "plt.xlabel(\"Cloudiness (%)\")\n",
    "plt.ylabel(\"Latitude\")\n",
    "plt.title(\"Latitude vs Cloudiness as of 2/2/2020\")\n",
    "\n",
    "plt.savefig(\"../Images/Lat_vs_Cloudiness.png\")"
   ]
  },
  {
   "cell_type": "markdown",
   "metadata": {},
   "source": [
    "#### Latitude vs. Wind Speed Plot"
   ]
  },
  {
   "cell_type": "code",
   "execution_count": 16,
   "metadata": {},
   "outputs": [
    {
     "data": {
      "image/png": "[encoded data removed]",
      "text/plain": [
       "<Figure size 432x288 with 1 Axes>"
      ]
     },
     "metadata": {
      "needs_background": "light"
     },
     "output_type": "display_data"
    }
   ],
   "source": [
    "plt.scatter(filtered_data['Wind (mph)'],filtered_data['Latitude'])\n",
    "plt.xlabel(\"Wind Speed (mph)\")\n",
    "plt.ylabel(\"Latitude\")\n",
    "plt.title(\"Latitude vs Wind Speed as of 2/2/2020\")\n",
    "\n",
    "plt.savefig(\"../Images/Lat_vs_Wind.png\")"
   ]
  },
  {
   "cell_type": "markdown",
   "metadata": {},
   "source": [
    "## Linear Regression"
   ]
  },
  {
   "cell_type": "code",
   "execution_count": null,
   "metadata": {},
   "outputs": [],
   "source": [
    "# OPTIONAL: Create a function to create Linear Regression plots\n"
   ]
  },
  {
   "cell_type": "code",
   "execution_count": null,
   "metadata": {},
   "outputs": [],
   "source": [
    "# Create Northern and Southern Hemisphere DataFrames\n"
   ]
  },
  {
   "cell_type": "markdown",
   "metadata": {},
   "source": [
    "####  Northern Hemisphere - Max Temp vs. Latitude Linear Regression"
   ]
  },
  {
   "cell_type": "code",
   "execution_count": null,
   "metadata": {},
   "outputs": [],
   "source": []
  },
  {
   "cell_type": "markdown",
   "metadata": {},
   "source": [
    "####  Southern Hemisphere - Max Temp vs. Latitude Linear Regression"
   ]
  },
  {
   "cell_type": "code",
   "execution_count": null,
   "metadata": {},
   "outputs": [],
   "source": []
  },
  {
   "cell_type": "markdown",
   "metadata": {},
   "source": [
    "####  Northern Hemisphere - Humidity (%) vs. Latitude Linear Regression"
   ]
  },
  {
   "cell_type": "code",
   "execution_count": null,
   "metadata": {},
   "outputs": [],
   "source": []
  },
  {
   "cell_type": "markdown",
   "metadata": {},
   "source": [
    "####  Southern Hemisphere - Humidity (%) vs. Latitude Linear Regression"
   ]
  },
  {
   "cell_type": "code",
   "execution_count": null,
   "metadata": {},
   "outputs": [],
   "source": []
  },
  {
   "cell_type": "markdown",
   "metadata": {},
   "source": [
    "####  Northern Hemisphere - Cloudiness (%) vs. Latitude Linear Regression"
   ]
  },
  {
   "cell_type": "code",
   "execution_count": null,
   "metadata": {},
   "outputs": [],
   "source": []
  },
  {
   "cell_type": "markdown",
   "metadata": {},
   "source": [
    "####  Southern Hemisphere - Cloudiness (%) vs. Latitude Linear Regression"
   ]
  },
  {
   "cell_type": "code",
   "execution_count": null,
   "metadata": {},
   "outputs": [],
   "source": []
  },
  {
   "cell_type": "markdown",
   "metadata": {},
   "source": [
    "####  Northern Hemisphere - Wind Speed (mph) vs. Latitude Linear Regression"
   ]
  },
  {
   "cell_type": "code",
   "execution_count": null,
   "metadata": {},
   "outputs": [],
   "source": []
  },
  {
   "cell_type": "markdown",
   "metadata": {},
   "source": [
    "####  Southern Hemisphere - Wind Speed (mph) vs. Latitude Linear Regression"
   ]
  },
  {
   "cell_type": "code",
   "execution_count": null,
   "metadata": {},
   "outputs": [],
   "source": []
  },
  {
   "cell_type": "code",
   "execution_count": null,
   "metadata": {},
   "outputs": [],
   "source": []
  },
  {
   "cell_type": "code",
   "execution_count": null,
   "metadata": {},
   "outputs": [],
   "source": []
  }
 ],
 "metadata": {
  "anaconda-cloud": {},
  "kernel_info": {
   "name": "python3"
  },
  "kernelspec": {
   "display_name": "Python 3",
   "language": "python",
   "name": "python3"
  },
  "language_info": {
   "codemirror_mode": {
    "name": "ipython",
    "version": 3
   },
   "file_extension": ".py",
   "mimetype": "text/x-python",
   "name": "python",
   "nbconvert_exporter": "python",
   "pygments_lexer": "ipython3",
   "version": "3.7.4"
  },
  "latex_envs": {
   "LaTeX_envs_menu_present": true,
   "autoclose": false,
   "autocomplete": true,
   "bibliofile": "biblio.bib",
   "cite_by": "apalike",
   "current_citInitial": 1,
   "eqLabelWithNumbers": true,
   "eqNumInitial": 1,
   "hotkeys": {
    "equation": "Ctrl-E",
    "itemize": "Ctrl-I"
   },
   "labels_anchors": false,
   "latex_user_defs": false,
   "report_style_numbering": false,
   "user_envs_cfg": false
  },
  "nteract": {
   "version": "0.12.3"
  }
 },
 "nbformat": 4,
 "nbformat_minor": 2
}
